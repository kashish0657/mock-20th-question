{
 "cells": [
  {
   "cell_type": "markdown",
   "id": "723fedd6-a3ad-4bd4-9317-ba877fe858b2",
   "metadata": {},
   "source": [
    "## 20 : answer :-"
   ]
  },
  {
   "cell_type": "code",
   "execution_count": 2,
   "id": "9abb46ec-0e6d-489a-8d5c-bdbfde5ae07c",
   "metadata": {},
   "outputs": [],
   "source": [
    "from scipy import stats\n",
    "\n",
    "def perform_hypothesis_test(sample1, sample2):\n",
    "    \"\"\"\n",
    "    Perform a two-sample t-test and return the p-value.\n",
    "    \n",
    "    Args:\n",
    "        sample1 (list): The first sample.\n",
    "        sample2 (list): The second sample.\n",
    "    \n",
    "    Returns:\n",
    "        float: The p-value from the t-test.\n",
    "    \"\"\"\n",
    "    # Perform t-test\n",
    "    t_statistic, p_value = stats.ttest_ind(sample1, sample2)\n",
    "    \n",
    "    return p_value\n"
   ]
  },
  {
   "cell_type": "code",
   "execution_count": null,
   "id": "d2a3b593-1e25-462f-9946-84331021c187",
   "metadata": {},
   "outputs": [],
   "source": []
  },
  {
   "cell_type": "code",
   "execution_count": null,
   "id": "19b000f6-a637-4508-89b5-e06b0476167b",
   "metadata": {},
   "outputs": [],
   "source": []
  },
  {
   "cell_type": "code",
   "execution_count": null,
   "id": "6f8fba88-b8c3-4cdd-9a9b-55bb50dce633",
   "metadata": {},
   "outputs": [],
   "source": []
  },
  {
   "cell_type": "code",
   "execution_count": null,
   "id": "d0a3d8ff-8fc6-47e1-8968-71fd7ed4bcdb",
   "metadata": {},
   "outputs": [],
   "source": []
  },
  {
   "cell_type": "code",
   "execution_count": null,
   "id": "9ffba481-008d-495f-81b1-f7ad139c3113",
   "metadata": {},
   "outputs": [],
   "source": []
  },
  {
   "cell_type": "code",
   "execution_count": null,
   "id": "c4476f29-fd37-4ee1-ae53-b90e7b57069f",
   "metadata": {},
   "outputs": [],
   "source": []
  }
 ],
 "metadata": {
  "kernelspec": {
   "display_name": "Python 3 (ipykernel)",
   "language": "python",
   "name": "python3"
  },
  "language_info": {
   "codemirror_mode": {
    "name": "ipython",
    "version": 3
   },
   "file_extension": ".py",
   "mimetype": "text/x-python",
   "name": "python",
   "nbconvert_exporter": "python",
   "pygments_lexer": "ipython3",
   "version": "3.10.8"
  }
 },
 "nbformat": 4,
 "nbformat_minor": 5
}
